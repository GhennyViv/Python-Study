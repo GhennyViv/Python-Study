{
 "cells": [
  {
   "cell_type": "markdown",
   "metadata": {},
   "source": [
    "# My Python Study\n",
    "12th April 2020"
   ]
  },
  {
   "cell_type": "code",
   "execution_count": 2,
   "metadata": {
    "scrolled": false
   },
   "outputs": [
    {
     "name": "stdout",
     "output_type": "stream",
     "text": [
      "Hello World!\n"
     ]
    }
   ],
   "source": [
    "print('Hello World!')"
   ]
  },
  {
   "cell_type": "code",
   "execution_count": 3,
   "metadata": {},
   "outputs": [
    {
     "name": "stdout",
     "output_type": "stream",
     "text": [
      "It's my official study day on Alison.com today!\n"
     ]
    }
   ],
   "source": [
    "#I can use single or double quotes depending on the sentence or word i want to write if it has a single quote, then i have to use a double quote to print it\n",
    "print(\"It's my official study day on Alison.com today!\")"
   ]
  },
  {
   "cell_type": "code",
   "execution_count": 4,
   "metadata": {},
   "outputs": [
    {
     "name": "stdout",
     "output_type": "stream",
     "text": [
      "My name is Genevieve\n",
      "I am a Badass Programmer by determination\n"
     ]
    }
   ],
   "source": [
    "#I can use 'print' multiple times\n",
    "print('My name is Genevieve')\n",
    "print('I am a Badass Programmer by determination')"
   ]
  },
  {
   "cell_type": "code",
   "execution_count": 5,
   "metadata": {
    "scrolled": true
   },
   "outputs": [
    {
     "name": "stdout",
     "output_type": "stream",
     "text": [
      "It wasn't easy getting this triple quotes\n",
      "It was easy getting this one after learning with the one above\n"
     ]
    }
   ],
   "source": [
    "#Trying out triple quotes\n",
    "print(\"\"\"It wasn't easy getting this triple quotes\"\"\")\n",
    "print('''It was easy getting this one after learning with the one above''')"
   ]
  },
  {
   "cell_type": "code",
   "execution_count": 6,
   "metadata": {},
   "outputs": [
    {
     "name": "stdout",
     "output_type": "stream",
     "text": [
      "I have decided to put all my effort in learning Python.\n",
      "It will yield success\n"
     ]
    }
   ],
   "source": [
    "#To create a new line in a sentence/statement\n",
    "print('I have decided to put all my effort in learning Python.\\nIt will yield success') #If i include a space after the 'n' then the next line will have a space"
   ]
  },
  {
   "cell_type": "code",
   "execution_count": 7,
   "metadata": {},
   "outputs": [
    {
     "name": "stdout",
     "output_type": "stream",
     "text": [
      "There once was a movie star icon\n",
      "who preferred to sleep with the light on.\n",
      "They learned how to code\n",
      "a device that sure glowed\n",
      "and lit up the night using Python!\n"
     ]
    }
   ],
   "source": [
    "#I want to write a program that will display a poem as seen on the Module 2 course of Introduction to Python on Alison.com\n",
    "print(\"There once was a movie star icon\\nwho preferred to sleep with the light on.\")\n",
    "print(\"They learned how to code\\na device that sure glowed\")\n",
    "print(\"and lit up the night using Python!\")"
   ]
  },
  {
   "cell_type": "code",
   "execution_count": 8,
   "metadata": {},
   "outputs": [
    {
     "name": "stdout",
     "output_type": "stream",
     "text": [
      "Hello Genevieve Nwagwu\n"
     ]
    }
   ],
   "source": [
    "#Combining variables and strings\n",
    "FirstName = \"Genevieve\"\n",
    "LastName = \"Nwagwu\"\n",
    "print(\"Hello \" + FirstName + \" \" + LastName)"
   ]
  },
  {
   "cell_type": "code",
   "execution_count": 9,
   "metadata": {},
   "outputs": [
    {
     "name": "stdout",
     "output_type": "stream",
     "text": [
      "Hickory Dickory Dock!\n",
      "The peach rabbit ran up the tower\n"
     ]
    }
   ],
   "source": [
    "#to create a story teller program\n",
    "animal = 'rabbit'\n",
    "color = 'peach'\n",
    "building = 'tower'\n",
    "print(\"Hickory Dickory Dock!\") \n",
    "print(\"The \" +color+\" \"+animal+\" ran up the \"+building)"
   ]
  },
  {
   "cell_type": "code",
   "execution_count": 10,
   "metadata": {},
   "outputs": [
    {
     "name": "stdout",
     "output_type": "stream",
     "text": [
      "hi choco\n",
      "HI CHOCO\n",
      "hI cHOCO\n"
     ]
    }
   ],
   "source": [
    "#To manipulate the content/case of variables\n",
    "message = ('Hi Choco')\n",
    "print(message.lower())\n",
    "print(message.upper())\n",
    "print(message.swapcase())"
   ]
  },
  {
   "cell_type": "code",
   "execution_count": 11,
   "metadata": {},
   "outputs": [
    {
     "name": "stdout",
     "output_type": "stream",
     "text": [
      "3\n",
      "2\n",
      "Hi choco\n",
      "Hello Choco\n"
     ]
    }
   ],
   "source": [
    "#Manipulating contents of a variable\n",
    "message = 'Hi Choco'\n",
    "print(message.find('Choco')) #'.find()' returns an integer value of 3 unique parameters\n",
    "print(message.count('o')) #'.count()' searches the string and returns how many times it is present in it.\n",
    "print(message.capitalize()) #'.capitalize()' does not take in any parameter in its parenthesis unlike the above and capitalizes just the first letter\n",
    "print(message.replace('Hi', 'Hello'))"
   ]
  },
  {
   "cell_type": "code",
   "execution_count": 12,
   "metadata": {
    "scrolled": false
   },
   "outputs": [
    {
     "name": "stdout",
     "output_type": "stream",
     "text": [
      "what is your favorite food?fried plantain\n"
     ]
    }
   ],
   "source": [
    "#To enable a user input an answer or request\n",
    "food = input('what is your favorite food?')"
   ]
  },
  {
   "cell_type": "code",
   "execution_count": 13,
   "metadata": {},
   "outputs": [
    {
     "name": "stdout",
     "output_type": "stream",
     "text": [
      "fried plantain\n"
     ]
    }
   ],
   "source": [
    "#To show the user's input\n",
    "print(food)"
   ]
  },
  {
   "cell_type": "code",
   "execution_count": 14,
   "metadata": {},
   "outputs": [
    {
     "name": "stdout",
     "output_type": "stream",
     "text": [
      "FRIED PLANTAIN\n"
     ]
    }
   ],
   "source": [
    "#To convert the user's input to uppercase\n",
    "print(food.upper())"
   ]
  },
  {
   "cell_type": "code",
   "execution_count": 15,
   "metadata": {},
   "outputs": [
    {
     "name": "stdout",
     "output_type": "stream",
     "text": [
      "What is your postal code?104121\n"
     ]
    }
   ],
   "source": [
    "#To have a user input his/her postal code\n",
    "PostalCode = input('What is your postal code?')"
   ]
  },
  {
   "cell_type": "code",
   "execution_count": 16,
   "metadata": {
    "scrolled": true
   },
   "outputs": [
    {
     "name": "stdout",
     "output_type": "stream",
     "text": [
      "104121\n"
     ]
    }
   ],
   "source": [
    "#To view the user's input\n",
    "print(PostalCode)"
   ]
  },
  {
   "cell_type": "code",
   "execution_count": 17,
   "metadata": {},
   "outputs": [
    {
     "name": "stdout",
     "output_type": "stream",
     "text": [
      "what is your postal code?104121\n"
     ]
    }
   ],
   "source": [
    "#To initialize the value of my variable before assigning\n",
    "PostalCode = \" \"\n",
    "PostalCode = input(\"what is your postal code?\")"
   ]
  },
  {
   "cell_type": "code",
   "execution_count": 18,
   "metadata": {
    "scrolled": true
   },
   "outputs": [
    {
     "name": "stdout",
     "output_type": "stream",
     "text": [
      "104121\n"
     ]
    }
   ],
   "source": [
    "print(PostalCode)"
   ]
  },
  {
   "cell_type": "code",
   "execution_count": 19,
   "metadata": {
    "scrolled": true
   },
   "outputs": [
    {
     "name": "stdout",
     "output_type": "stream",
     "text": [
      "what is your favorite color?brown\n",
      "what is your favorite animal?RABBIT\n",
      "what is your favorite meal of the day?CarRoT\n",
      "what period of the day makes you relaxed?night\n",
      "The brown rabbit had a nice carrot at night\n"
     ]
    }
   ],
   "source": [
    "#To write a story with a user's input and correct the upper or lower case where need be\n",
    "Color = input('what is your favorite color?')\n",
    "Animal = input('what is your favorite animal?')\n",
    "Meal = input('what is your favorite meal of the day?')\n",
    "Day = input('what period of the day makes you relaxed?')\n",
    "print(\"The \"+Color+\" \"+Animal.lower()+\" had a nice \"+Meal.lower()+\" at \"+Day)"
   ]
  },
  {
   "cell_type": "code",
   "execution_count": 20,
   "metadata": {},
   "outputs": [
    {
     "name": "stdout",
     "output_type": "stream",
     "text": [
      "50\n"
     ]
    }
   ],
   "source": [
    "#Math Operations on variables and numeric values\n",
    "width = 15\n",
    "height = 10\n",
    "area = width * height\n",
    "perimeter = 2*width + 2*height\n",
    "print(perimeter)"
   ]
  },
  {
   "cell_type": "code",
   "execution_count": 21,
   "metadata": {},
   "outputs": [
    {
     "name": "stdout",
     "output_type": "stream",
     "text": [
      "15\n"
     ]
    }
   ],
   "source": [
    "#Still on Math operations\n",
    "total = 5 + 3 + 3 + 2 + 2\n",
    "print(total)"
   ]
  },
  {
   "cell_type": "code",
   "execution_count": 22,
   "metadata": {},
   "outputs": [],
   "source": [
    "# int(value) - to convert a value to an integer\n",
    "# long(value) - converts to a long integer\n",
    "# float(value) - converts to a floating number \n",
    "#(i.e. a number that can hold decimal places)\n",
    "# str(value) - converts to a string\n"
   ]
  },
  {
   "cell_type": "code",
   "execution_count": 23,
   "metadata": {},
   "outputs": [
    {
     "name": "stdout",
     "output_type": "stream",
     "text": [
      "please enter your salary: 65000\n",
      "please enter your bonus: 5000\n",
      "70000\n"
     ]
    }
   ],
   "source": [
    "salary = input(\"please enter your salary: \")\n",
    "bonus = input(\"please enter your bonus: \")\n",
    "payCheck = salary + bonus\n",
    "payCheck = int(salary) + int(bonus)\n",
    "print(payCheck)"
   ]
  },
  {
   "cell_type": "code",
   "execution_count": 24,
   "metadata": {},
   "outputs": [
    {
     "name": "stdout",
     "output_type": "stream",
     "text": [
      "please enter cost of loan: 150000\n",
      "please enter the interest rate: 0.05\n",
      "please enter the number of years for the loan: 1\n",
      "7499.000000000001\n"
     ]
    }
   ],
   "source": [
    "#Quiz - create a loan calculator\n",
    "#Calculate monthly payments with the following formula below:\n",
    "#M = L[i(1+i)n] / [(1+i)n-1]\n",
    "# M = monthly payment\n",
    "# L = Loan amount\n",
    "# i = interest rate (for an interest rate of 5%, i = 0.05),\n",
    "# n = number of payments\n",
    "\n",
    "\n",
    "loan = int(input(\"please enter cost of loan: \"))\n",
    "interest_rate = float(input(\"please enter the interest rate: \"))\n",
    "years = int(input(\"please enter the number of years for the loan: \"))\n",
    "l = loan\n",
    "i = interest_rate\n",
    "n = years\n",
    "\n",
    "monthly_payment = l*(i*(1+ i)*n) / (1+i)*n-1\n",
    "print(monthly_payment)"
   ]
  },
  {
   "cell_type": "code",
   "execution_count": 25,
   "metadata": {},
   "outputs": [
    {
     "name": "stdout",
     "output_type": "stream",
     "text": [
      "2020-08-11\n"
     ]
    }
   ],
   "source": [
    "#Date and time study\n",
    "#The import statement gives us access to the functionality of the datetime class \n",
    "#today is a function that returns today's date\n",
    "import datetime\n",
    "print(datetime.date.today())"
   ]
  },
  {
   "cell_type": "code",
   "execution_count": 26,
   "metadata": {},
   "outputs": [
    {
     "name": "stdout",
     "output_type": "stream",
     "text": [
      "2020-08-11\n"
     ]
    }
   ],
   "source": [
    "#import datetime and store the value in a variable called currentDate\n",
    "import datetime\n",
    "currentDate = datetime.date.today()\n",
    "print(currentDate)"
   ]
  },
  {
   "cell_type": "code",
   "execution_count": 27,
   "metadata": {},
   "outputs": [
    {
     "name": "stdout",
     "output_type": "stream",
     "text": [
      "2020-08-11\n",
      "2020\n",
      "8\n",
      "11\n"
     ]
    }
   ],
   "source": [
    "import datetime\n",
    "currentDate = datetime.date.today()\n",
    "print(currentDate) #shows the full date of today\n",
    "print(currentDate.year) #shows the year alone\n",
    "print(currentDate.month) #shows the month alone\n",
    "print(currentDate.day) #shows the day alone"
   ]
  },
  {
   "cell_type": "code",
   "execution_count": 28,
   "metadata": {},
   "outputs": [],
   "source": [
    "# %b is the month abbreviation\n",
    "# %B is the full month name\n",
    "# %y is two digit year\n",
    "# %a is the day of the week abbreviated\n",
    "# %A is the day of the week\n",
    "\n",
    "# For a full list of other possible things with strftime - visit of strftime.org "
   ]
  },
  {
   "cell_type": "code",
   "execution_count": 29,
   "metadata": {},
   "outputs": [
    {
     "name": "stdout",
     "output_type": "stream",
     "text": [
      "11 Tue Aug,2020\n"
     ]
    }
   ],
   "source": [
    "import datetime\n",
    "currentDate = datetime.date.today()\n",
    "#strftime allows one to know/specify the date format\n",
    "print(currentDate.strftime('%d %a %b,%Y'))"
   ]
  },
  {
   "cell_type": "code",
   "execution_count": 30,
   "metadata": {},
   "outputs": [
    {
     "name": "stdout",
     "output_type": "stream",
     "text": [
      "Please attend our event Saturday, September 19 in the year 2020\n"
     ]
    }
   ],
   "source": [
    "\"Please attend our event Saturday, September 19 in the year 2020\"\n",
    "import datetime\n",
    "currentDate = datetime.datetime(2020, 9, 19)\n",
    "#Create a way to write a code invite one for a future event\n",
    "\n",
    "print (currentDate.strftime('Please attend our event %A, %B %d in the year %Y'))"
   ]
  },
  {
   "cell_type": "code",
   "execution_count": 31,
   "metadata": {},
   "outputs": [
    {
     "name": "stdout",
     "output_type": "stream",
     "text": [
      "what is my birthday?Feb. 16\n",
      "My birthday is Feb. 16\n"
     ]
    }
   ],
   "source": [
    "#Birthday date\n",
    "birthday = input('what is my birthday?')\n",
    "print('My birthday is '+birthday)"
   ]
  },
  {
   "cell_type": "code",
   "execution_count": 32,
   "metadata": {
    "scrolled": false
   },
   "outputs": [
    {
     "name": "stdout",
     "output_type": "stream",
     "text": [
      "what is my birthday?Feb. 16\n",
      "My birth month is February\n"
     ]
    }
   ],
   "source": [
    "import datetime\n",
    "#if datetime library is not providing enough info, there's dateutil library\n",
    "birthday = input(\"what is my birthday?\")\n",
    "#To correct the user's input so it aligns with the set date\n",
    "#birthday = birthday.strftime\n",
    "birthdate = datetime.datetime(1993, 2, 16)\n",
    "print(\"My birth month is \" +birthdate.strftime('%B'))"
   ]
  },
  {
   "cell_type": "code",
   "execution_count": 33,
   "metadata": {},
   "outputs": [
    {
     "name": "stdout",
     "output_type": "stream",
     "text": [
      "2020-09-01\n",
      "2020-08-10\n"
     ]
    }
   ],
   "source": [
    "#To tell someone when the milk in their fridge will expire\n",
    "#timedelta allows me specify the time; to add and subtract from a date\n",
    "currentDate = datetime.date.today()\n",
    "#to say it will expire in 21days\n",
    "print(currentDate + datetime.timedelta(days=21))\n",
    "#to say it expired 24hours ago\n",
    "print(currentDate - datetime.timedelta(hours=24))"
   ]
  },
  {
   "cell_type": "code",
   "execution_count": 34,
   "metadata": {
    "scrolled": true
   },
   "outputs": [
    {
     "name": "stdout",
     "output_type": "stream",
     "text": [
      "2020-08-11 15:45:22.708616\n",
      "15\n",
      "45\n",
      "22\n"
     ]
    }
   ],
   "source": [
    "#to access current time, import from datetime library\n",
    "import datetime\n",
    "currentTime = datetime.datetime.now()\n",
    "print(currentTime)\n",
    "print(currentTime.hour)\n",
    "print(currentTime.minute)\n",
    "print(currentTime.second)"
   ]
  },
  {
   "cell_type": "code",
   "execution_count": 35,
   "metadata": {},
   "outputs": [
    {
     "name": "stdout",
     "output_type": "stream",
     "text": [
      "when is the project's deadline?Aug 30\n",
      "The project will be due on 2020-08-30\n"
     ]
    }
   ],
   "source": [
    "# Ask a user to enter the deadline for their project\n",
    "project_deadline = input(\"when is the project's deadline?\")\n",
    "# Tell them how many days they have to complete the project\n",
    "given_duration = currentDate + datetime.timedelta(weeks=2, days=5)\n",
    "print(\"The project will be due on\", given_duration)"
   ]
  },
  {
   "cell_type": "code",
   "execution_count": 36,
   "metadata": {},
   "outputs": [
    {
     "name": "stdout",
     "output_type": "stream",
     "text": [
      "Waive charges\n"
     ]
    }
   ],
   "source": [
    "#Conditional statements..IF, IF NOT\n",
    "deposit = 200\n",
    "if deposit == 100:\n",
    "    print(\"You get a free toaster!\")\n",
    "if deposit < 50:\n",
    "    print(\"Have a nice day\")\n",
    "else:\n",
    "    print(\"Waive charges\")"
   ]
  },
  {
   "cell_type": "code",
   "execution_count": 37,
   "metadata": {},
   "outputs": [
    {
     "name": "stdout",
     "output_type": "stream",
     "text": [
      "please enter how much you want to deposit99\n",
      "Have a nice day!\n"
     ]
    }
   ],
   "source": [
    "#How to make a user input in a conditional statement\n",
    "deposit=input(\"please enter how much you want to deposit\")\n",
    "if int(deposit) > 100:\n",
    "    print(\"You get a free toaster\")\n",
    "else:\n",
    "    print(\"Have a nice day!\")"
   ]
  },
  {
   "cell_type": "code",
   "execution_count": 38,
   "metadata": {},
   "outputs": [
    {
     "name": "stdout",
     "output_type": "stream",
     "text": [
      "please enter how much you want to deposit100\n",
      "You get a free microwave\n"
     ]
    }
   ],
   "source": [
    "# another way to do the above\n",
    "deposit= int(input(\"please enter how much you want to deposit\"))\n",
    "if deposit >= 100:\n",
    "    print(\"You get a free microwave\")\n",
    "else:\n",
    "    print(\"Have a nice day!\")"
   ]
  },
  {
   "cell_type": "code",
   "execution_count": 39,
   "metadata": {},
   "outputs": [
    {
     "name": "stdout",
     "output_type": "stream",
     "text": [
      "please enter how much are you depositing25\n",
      "Have a nice day!\n"
     ]
    }
   ],
   "source": [
    "# What if you get a free toaster for $100 and over and a free mug for under $100\n",
    "deposit = input(\"please enter how much are you depositing\")\n",
    "if int(deposit) >= 100:\n",
    "    print(\"You get a free toaster\")\n",
    "elif int(deposit) == 50:\n",
    "    print(\"You get a free mug\")\n",
    "else:\n",
    "    print(\"Have a nice day!\")"
   ]
  },
  {
   "cell_type": "code",
   "execution_count": 40,
   "metadata": {},
   "outputs": [
    {
     "name": "stdout",
     "output_type": "stream",
     "text": [
      "please enter how much you are depositing150\n",
      "Enjoy your toaster!\n"
     ]
    }
   ],
   "source": [
    "#Using boolean variables to know if a condition is true or false\n",
    "\n",
    "#initializing the variable below\n",
    "freeToaster = False\n",
    "\n",
    "deposit = input(\"please enter how much you are depositing\")\n",
    "def get_gift(deposit):\n",
    "    if int(deposit) > 100:\n",
    "        freeToaster = True #setting boolean variable freeToaster to true\n",
    "    \n",
    "    if True: #If the statement above is true, the boolean variable will print\n",
    "        print(\"Enjoy your toaster!\")\n",
    "    else:\n",
    "        print(\"Have a nice day\")\n",
    "get_gift(50)"
   ]
  },
  {
   "cell_type": "code",
   "execution_count": 42,
   "metadata": {},
   "outputs": [
    {
     "name": "stdout",
     "output_type": "stream",
     "text": [
      "what country are you in?Nigeria\n",
      "Na so!\n"
     ]
    }
   ],
   "source": [
    "#Complex decisions with conditional statement\n",
    "country = input(\"what country are you in?\")\n",
    "if country == \"Canada\":\n",
    "    print(\"Hello!\")\n",
    "elif country == \"Nigeria\":\n",
    "    print(\"Na so!\")\n",
    "elif country == \"Germany\":\n",
    "    print(\"Guten tag\")\n",
    "else:\n",
    "    print(\"You still exist\")"
   ]
  },
  {
   "cell_type": "code",
   "execution_count": 43,
   "metadata": {},
   "outputs": [
    {
     "name": "stdout",
     "output_type": "stream",
     "text": [
      "what country are you in?Naija\n",
      " Na so we see am-Planet Earth\n"
     ]
    }
   ],
   "source": [
    "#Complex decisions with conditional statement\n",
    "country = input(\"what country are you in?\")\n",
    "if country == \"Canada\":\n",
    "    print(\"Hello!\")\n",
    "elif country == \"Nigeria\":\n",
    "    print(\"Na so!\")\n",
    "elif country == \"Germany\":\n",
    "    print(\"Guten tag\")\n",
    "else:\n",
    "    print(\" Na so we see am-Planet Earth\")"
   ]
  },
  {
   "cell_type": "code",
   "execution_count": 44,
   "metadata": {},
   "outputs": [
    {
     "name": "stdout",
     "output_type": "stream",
     "text": [
      "Keep working hard\n"
     ]
    }
   ],
   "source": [
    "#Combining Conditions\n",
    "#And\n",
    "#Initializing a boolean varibale\n",
    "wonLottery = True\n",
    "bigWin = False\n",
    "#The first print (function) will execute only if both are true\n",
    "#the 2nd print(function) will execute if one or both (above) is/are false\n",
    "if wonLottery and bigWin:\n",
    "    print(\"you can retire!\")\n",
    "else:\n",
    "    print(\"Keep working hard\")"
   ]
  },
  {
   "cell_type": "code",
   "execution_count": 45,
   "metadata": {},
   "outputs": [
    {
     "name": "stdout",
     "output_type": "stream",
     "text": [
      "I can sleep!\n"
     ]
    }
   ],
   "source": [
    "#Combining Conditions\n",
    "#OR\n",
    "#Initializing a boolean variable\n",
    "saturday = False\n",
    "sunday = True\n",
    "if saturday or sunday:\n",
    "    print(\"I can sleep!\")\n",
    "else:\n",
    "    print(\"Waiting for weekend to have a good sleep\")"
   ]
  },
  {
   "cell_type": "code",
   "execution_count": 46,
   "metadata": {},
   "outputs": [
    {
     "name": "stdout",
     "output_type": "stream",
     "text": [
      "There are 30 days in this month\n",
      "You and I should hang out!\n"
     ]
    }
   ],
   "source": [
    "#Combining the And and Or in an IF statement\n",
    "\n",
    "def get_days_of_a_month(month):\n",
    "    month = month.lower()\n",
    "    if month == \"sept\" or month == \"april\" or month == \"june\" or month == \"nov\":\n",
    "        print(\"There are 30 days in this month\")\n",
    "    elif month == \"february\":\n",
    "        print(\"There are 28 or 29 days in this month\")\n",
    "    else:\n",
    "        print(\"This month has 31 days\")\n",
    "get_days_of_a_month(\"Sept\")\n",
    "\n",
    "favMovie = \"Breakthrough\"\n",
    "favBook = \"Kenneth Hagin\"\n",
    "favEvent = \"Saint Community Church activities\"\n",
    "if favMovie == \"Breakthrough\" and favBook == \"Kenneth Hagin\" and favEvent == \"Saint Community Church activities\":\n",
    "    print(\"You and I should hang out!\")"
   ]
  },
  {
   "cell_type": "code",
   "execution_count": 47,
   "metadata": {},
   "outputs": [
    {
     "name": "stdout",
     "output_type": "stream",
     "text": [
      "That's a good one!\n"
     ]
    }
   ],
   "source": [
    "country = \"Nigeria\"\n",
    "pet = \"Dog\"\n",
    "if country == \"Nigeria\" and pet == \"Dog\":\n",
    "    print(\"That's a good one!\")"
   ]
  },
  {
   "cell_type": "code",
   "execution_count": 48,
   "metadata": {},
   "outputs": [
    {
     "name": "stdout",
     "output_type": "stream",
     "text": [
      "I love Mondays!\n"
     ]
    }
   ],
   "source": [
    "#Nested IFs\n",
    "monday = True\n",
    "freshCoffee = True\n",
    "if monday:\n",
    "    if not freshCoffee:\n",
    "        print(\"go and buy a coffee!\")\n",
    "    print(\"I love Mondays!\")\n",
    "else:\n",
    "    print(\"Enjoy the rest of the week\")"
   ]
  },
  {
   "cell_type": "code",
   "execution_count": 49,
   "metadata": {},
   "outputs": [
    {
     "name": "stdout",
     "output_type": "stream",
     "text": [
      "the week went fast!\n",
      "I love other days!\n",
      "You can start your work!\n"
     ]
    }
   ],
   "source": [
    "#Nested IFs\n",
    "monday = False\n",
    "freshCoffee = True\n",
    "if freshCoffee:\n",
    "    if not monday:\n",
    "        print(\"the week went fast!\")\n",
    "    print(\"I love other days!\")\n",
    "print(\"You can start your work!\")"
   ]
  },
  {
   "cell_type": "code",
   "execution_count": 54,
   "metadata": {},
   "outputs": [
    {
     "name": "stdout",
     "output_type": "stream",
     "text": [
      "what is 2 + 24\n",
      "Yes! 2 + 2 = 4\n"
     ]
    }
   ],
   "source": [
    "#For loop allows repeat of running for a fixed number\n",
    "#While loop allows repeat until a particular condition is true\n",
    "answer = 0\n",
    "while answer != \"4\":\n",
    "    answer = input(\"what is 2 + 2\")\n",
    "print(\"Yes! 2 + 2 = 4\")"
   ]
  },
  {
   "cell_type": "code",
   "execution_count": 58,
   "metadata": {},
   "outputs": [
    {
     "name": "stdout",
     "output_type": "stream",
     "text": [
      "Hello World!\n"
     ]
    }
   ],
   "source": [
    "#Functions\n",
    "def printMessage():\n",
    "    print('Hello World!')\n",
    "    return\n",
    "printMessage()"
   ]
  },
  {
   "cell_type": "code",
   "execution_count": 59,
   "metadata": {},
   "outputs": [
    {
     "name": "stdout",
     "output_type": "stream",
     "text": [
      "Hello World!\n"
     ]
    }
   ],
   "source": [
    "def printMessage(message):\n",
    "    print(message)\n",
    "    return\n",
    "printMessage('Hello World!')"
   ]
  },
  {
   "cell_type": "code",
   "execution_count": 64,
   "metadata": {},
   "outputs": [],
   "source": [
    "#To be continued..."
   ]
  }
 ],
 "metadata": {
  "kernelspec": {
   "display_name": "Python 3",
   "language": "python",
   "name": "python3"
  },
  "language_info": {
   "codemirror_mode": {
    "name": "ipython",
    "version": 3
   },
   "file_extension": ".py",
   "mimetype": "text/x-python",
   "name": "python",
   "nbconvert_exporter": "python",
   "pygments_lexer": "ipython3",
   "version": "3.7.4"
  }
 },
 "nbformat": 4,
 "nbformat_minor": 2
}
